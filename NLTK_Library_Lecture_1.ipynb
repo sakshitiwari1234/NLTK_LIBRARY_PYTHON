{
  "nbformat": 4,
  "nbformat_minor": 0,
  "metadata": {
    "colab": {
      "provenance": [],
      "authorship_tag": "ABX9TyPb0q0x7z7qbMXC9Y/2Cme2",
      "include_colab_link": true
    },
    "kernelspec": {
      "name": "python3",
      "display_name": "Python 3"
    },
    "language_info": {
      "name": "python"
    }
  },
  "cells": [
    {
      "cell_type": "markdown",
      "metadata": {
        "id": "view-in-github",
        "colab_type": "text"
      },
      "source": [
        "<a href=\"https://colab.research.google.com/github/sakshitiwari1234/NLTK_LIBRARY_PYTHON/blob/main/NLTK_Library_Lecture_1.ipynb\" target=\"_parent\"><img src=\"https://colab.research.google.com/assets/colab-badge.svg\" alt=\"Open In Colab\"/></a>"
      ]
    },
    {
      "cell_type": "markdown",
      "source": [
        "# Getting Started with NLTK"
      ],
      "metadata": {
        "id": "2MJR66DR_xIr"
      }
    },
    {
      "cell_type": "markdown",
      "source": [
        "## Natural language Processing toolkit"
      ],
      "metadata": {
        "id": "mmZNDXTZ_1UM"
      }
    },
    {
      "cell_type": "markdown",
      "source": [
        "NLTK, or Natural Language Toolkit, is an open-source Python library that helps with working with human language data. It's used by researchers, linguists, and data scientists to perform text analysis and develop NLP models.\n",
        "Some of the features of NLTK include:\n",
        "Tokenization:-\n",
        "Breaks text into smaller units called tokens, which can be words, sentences, sub-words, or characters.\n",
        "Stemming:-\n",
        "Reduces a word to its base or root form by removing affixes.\n",
        "Lemmatization:-\n",
        "Reduces a word to its base form while ensuring that the reduced form belongs to a language.\n",
        "Text classification:-\n",
        "Provides tools to build models that can categorize text into predefined classes.\n",
        "\n",
        "NLTK was developed in 2001 by Edward Loper and Steven Bird as part of a research project to teach linguistic concepts in computational form."
      ],
      "metadata": {
        "id": "LV4SGREZANSM"
      }
    },
    {
      "cell_type": "code",
      "execution_count": null,
      "metadata": {
        "id": "A7gA_Tfy_Aoz"
      },
      "outputs": [],
      "source": [
        "import nltk"
      ]
    },
    {
      "cell_type": "code",
      "source": [
        "text = \"hello samrat ashok tehcnological how how  insittute how are you, samrat ashok is the best college hello.\""
      ],
      "metadata": {
        "id": "CP3wbbzmS9Gj"
      },
      "execution_count": null,
      "outputs": []
    },
    {
      "cell_type": "code",
      "source": [
        "from nltk.tokenize import word_tokenize"
      ],
      "metadata": {
        "id": "qsBcwX-IWAXY"
      },
      "execution_count": null,
      "outputs": []
    },
    {
      "cell_type": "code",
      "source": [
        "nltk.download()"
      ],
      "metadata": {
        "colab": {
          "base_uri": "https://localhost:8080/"
        },
        "id": "7fnqzsf8eTDd",
        "outputId": "782559a9-ef00-4999-ec5c-8b1e2754c209"
      },
      "execution_count": null,
      "outputs": [
        {
          "output_type": "stream",
          "name": "stderr",
          "text": [
            "[nltk_data] Downloading package punkt_tab to /root/nltk_data...\n",
            "[nltk_data]   Package punkt_tab is already up-to-date!\n"
          ]
        },
        {
          "output_type": "execute_result",
          "data": {
            "text/plain": [
              "True"
            ]
          },
          "metadata": {},
          "execution_count": 36
        }
      ]
    },
    {
      "cell_type": "code",
      "source": [
        "word_tokenized = (word_tokenize(text))"
      ],
      "metadata": {
        "id": "vt49MmOsWVvd"
      },
      "execution_count": null,
      "outputs": []
    },
    {
      "cell_type": "code",
      "source": [
        "from nltk.tokenize import sent_tokenize"
      ],
      "metadata": {
        "id": "H2FNFQxaeG1n"
      },
      "execution_count": null,
      "outputs": []
    },
    {
      "cell_type": "code",
      "source": [
        "print(sent_tokenize(text))"
      ],
      "metadata": {
        "colab": {
          "base_uri": "https://localhost:8080/"
        },
        "id": "lYIZIhw7efVk",
        "outputId": "c58ab552-bd2f-4546-ba26-adea478fee8f"
      },
      "execution_count": null,
      "outputs": [
        {
          "output_type": "stream",
          "name": "stdout",
          "text": [
            "['hello samrat ashok tehcnological how how  insittute how are you, samrat ashok is the best college hello.']\n"
          ]
        }
      ]
    },
    {
      "cell_type": "code",
      "source": [
        "from nltk.probability import FreqDist"
      ],
      "metadata": {
        "id": "cGLpv8VVehfP"
      },
      "execution_count": null,
      "outputs": []
    },
    {
      "cell_type": "code",
      "source": [
        "fd = (FreqDist(word_tokenized))"
      ],
      "metadata": {
        "id": "Gc4sstfPexRT"
      },
      "execution_count": null,
      "outputs": []
    },
    {
      "cell_type": "code",
      "source": [
        "print(fd.most_common(4))"
      ],
      "metadata": {
        "colab": {
          "base_uri": "https://localhost:8080/"
        },
        "id": "8Mj4CFDBe3p5",
        "outputId": "a5301207-8c07-40eb-91ab-527c5420cca4"
      },
      "execution_count": null,
      "outputs": [
        {
          "output_type": "stream",
          "name": "stdout",
          "text": [
            "[('how', 3), ('hello', 2), ('samrat', 2), ('ashok', 2)]\n"
          ]
        }
      ]
    },
    {
      "cell_type": "code",
      "source": [
        "pip install matplotlib"
      ],
      "metadata": {
        "colab": {
          "base_uri": "https://localhost:8080/"
        },
        "id": "9UAf4h-7fjd8",
        "outputId": "e54f0a26-bd79-497f-f1ae-4864157fed02"
      },
      "execution_count": null,
      "outputs": [
        {
          "output_type": "stream",
          "name": "stdout",
          "text": [
            "Requirement already satisfied: matplotlib in /usr/local/lib/python3.10/dist-packages (3.10.0)\n",
            "Requirement already satisfied: contourpy>=1.0.1 in /usr/local/lib/python3.10/dist-packages (from matplotlib) (1.3.1)\n",
            "Requirement already satisfied: cycler>=0.10 in /usr/local/lib/python3.10/dist-packages (from matplotlib) (0.12.1)\n",
            "Requirement already satisfied: fonttools>=4.22.0 in /usr/local/lib/python3.10/dist-packages (from matplotlib) (4.55.3)\n",
            "Requirement already satisfied: kiwisolver>=1.3.1 in /usr/local/lib/python3.10/dist-packages (from matplotlib) (1.4.8)\n",
            "Requirement already satisfied: numpy>=1.23 in /usr/local/lib/python3.10/dist-packages (from matplotlib) (1.26.4)\n",
            "Requirement already satisfied: packaging>=20.0 in /usr/local/lib/python3.10/dist-packages (from matplotlib) (24.2)\n",
            "Requirement already satisfied: pillow>=8 in /usr/local/lib/python3.10/dist-packages (from matplotlib) (11.1.0)\n",
            "Requirement already satisfied: pyparsing>=2.3.1 in /usr/local/lib/python3.10/dist-packages (from matplotlib) (3.2.1)\n",
            "Requirement already satisfied: python-dateutil>=2.7 in /usr/local/lib/python3.10/dist-packages (from matplotlib) (2.8.2)\n",
            "Requirement already satisfied: six>=1.5 in /usr/local/lib/python3.10/dist-packages (from python-dateutil>=2.7->matplotlib) (1.17.0)\n"
          ]
        }
      ]
    },
    {
      "cell_type": "code",
      "source": [
        "import matplotlib.pyplot as plt"
      ],
      "metadata": {
        "id": "XnrnO5mTfygy"
      },
      "execution_count": null,
      "outputs": []
    },
    {
      "cell_type": "code",
      "source": [
        "fd.plot(30, cumulative = False)"
      ],
      "metadata": {
        "colab": {
          "base_uri": "https://localhost:8080/",
          "height": 545
        },
        "id": "KBsjyxEAhOn6",
        "outputId": "639c03f1-9cc2-4b9c-8b03-8733afb82d9c"
      },
      "execution_count": null,
      "outputs": [
        {
          "output_type": "execute_result",
          "data": {
            "text/plain": [
              "<Axes: xlabel='Samples', ylabel='Counts'>"
            ]
          },
          "metadata": {},
          "execution_count": 55
        },
        {
          "output_type": "display_data",
          "data": {
            "text/plain": [
              "<Figure size 640x480 with 1 Axes>"
            ],
            "image/png": "[encoded data removed]"
          },
          "metadata": {}
        }
      ]
    },
    {
      "cell_type": "code",
      "source": [
        "plt.show()"
      ],
      "metadata": {
        "id": "ahSCQ8kfhYQz"
      },
      "execution_count": null,
      "outputs": []
    },
    {
      "cell_type": "markdown",
      "source": [
        "# REMOVING STOP WORDS USING NLTK"
      ],
      "metadata": {
        "id": "cZFqCpH4Mk-H"
      }
    },
    {
      "cell_type": "code",
      "source": [
        "import nltk"
      ],
      "metadata": {
        "id": "AtnLszVmhiv6"
      },
      "execution_count": null,
      "outputs": []
    },
    {
      "cell_type": "code",
      "source": [
        "nltk.download('stopwords')"
      ],
      "metadata": {
        "colab": {
          "base_uri": "https://localhost:8080/"
        },
        "id": "Mcv8U0PSMtRB",
        "outputId": "8dd8a9a4-76fd-4ddf-e09f-c40ac1940b50"
      },
      "execution_count": null,
      "outputs": [
        {
          "output_type": "stream",
          "name": "stderr",
          "text": [
            "[nltk_data] Downloading package stopwords to /root/nltk_data...\n",
            "[nltk_data]   Unzipping corpora/stopwords.zip.\n"
          ]
        },
        {
          "output_type": "execute_result",
          "data": {
            "text/plain": [
              "True"
            ]
          },
          "metadata": {},
          "execution_count": 2
        }
      ]
    },
    {
      "cell_type": "code",
      "source": [
        "from nltk.corpus import stopwords"
      ],
      "metadata": {
        "id": "eCeLa7rVNCmN"
      },
      "execution_count": null,
      "outputs": []
    },
    {
      "cell_type": "code",
      "source": [
        "stop_words = set(stopwords.words('english'))"
      ],
      "metadata": {
        "id": "2YzJnFlMNHPp"
      },
      "execution_count": null,
      "outputs": []
    },
    {
      "cell_type": "code",
      "source": [
        "print(stop_words)"
      ],
      "metadata": {
        "colab": {
          "base_uri": "https://localhost:8080/"
        },
        "id": "oUN995gNNK1P",
        "outputId": "d4f19f26-9cd4-4365-a64a-343066c90eb5"
      },
      "execution_count": null,
      "outputs": [
        {
          "output_type": "stream",
          "name": "stdout",
          "text": [
            "{'too', 'shouldn', \"you're\", 'himself', 'am', 'there', 'in', 'ma', 'itself', 'be', 'to', 'after', 'into', 'hers', 'if', 'here', 'now', 'shan', 'until', 'most', \"hadn't\", 'aren', 'or', 'with', 'your', 'other', 'can', 'only', 'such', 'at', 'then', 'these', 'we', 'ourselves', 'hasn', 'yours', 'they', 'this', 'why', 'under', 're', 'have', 'some', 'doesn', \"hasn't\", \"weren't\", 'all', 'doing', 'below', 'should', 'do', 'hadn', 'as', 'than', 'having', \"haven't\", 'theirs', 't', \"needn't\", 'where', 'before', \"mightn't\", 'further', 'up', 'been', 'our', 'and', 'but', 'each', 'i', 'against', 'm', 'her', 'whom', 'because', 'weren', 'don', 'them', \"you'll\", 'few', 'its', 'between', 'out', 'won', 'mightn', 'wouldn', 'any', 'yourself', 'me', 'just', 'had', 'him', 'down', 'that', 'very', 'wasn', 'was', \"you've\", 'isn', 'are', \"shouldn't\", \"that'll\", 'ain', 'of', 'didn', \"don't\", \"she's\", 'by', 'for', \"isn't\", 'a', 'during', 'over', 'couldn', 'will', 'above', 'through', 'll', 'what', 'did', 'y', \"couldn't\", \"won't\", 'when', 'about', 'd', 'more', \"you'd\", 'his', 'needn', 'nor', 'has', 'from', 's', 'themselves', 'the', 'he', 'once', 'their', 'being', 've', 'ours', 'same', 'own', 'haven', \"wasn't\", 'those', 'how', 'is', 'who', 'herself', 'mustn', 'does', 'an', 'were', 'off', 'myself', 'both', 'o', 'on', 'no', 'you', 'it', 'while', 'again', 'not', \"wouldn't\", 'which', \"mustn't\", \"didn't\", \"it's\", \"shan't\", 'my', \"doesn't\", \"should've\", 'yourselves', 'she', \"aren't\", 'so'}\n"
          ]
        }
      ]
    },
    {
      "cell_type": "code",
      "source": [
        "text = \"hi there my name is sakshi tiwari. i am a Pre-final year student pursuing my bachelor's in artifiical intllgience and data scince branch.\""
      ],
      "metadata": {
        "id": "883CGf1kNRns"
      },
      "execution_count": null,
      "outputs": []
    },
    {
      "cell_type": "code",
      "source": [
        "from nltk.tokenize import word_tokenize, sent_tokenize"
      ],
      "metadata": {
        "id": "0unRhVI0OU8H"
      },
      "execution_count": null,
      "outputs": []
    },
    {
      "cell_type": "code",
      "source": [
        "nltk.download('punkt_tab')"
      ],
      "metadata": {
        "colab": {
          "base_uri": "https://localhost:8080/"
        },
        "id": "LFNFZrUPQINY",
        "outputId": "65c9be0f-cdc3-431a-cd43-0a411f9e1457"
      },
      "execution_count": null,
      "outputs": [
        {
          "output_type": "stream",
          "name": "stderr",
          "text": [
            "[nltk_data] Downloading package punkt_tab to /root/nltk_data...\n",
            "[nltk_data]   Unzipping tokenizers/punkt_tab.zip.\n"
          ]
        },
        {
          "output_type": "execute_result",
          "data": {
            "text/plain": [
              "True"
            ]
          },
          "metadata": {},
          "execution_count": 23
        }
      ]
    },
    {
      "cell_type": "code",
      "source": [
        "tokenized_work = word_tokenize(text)"
      ],
      "metadata": {
        "id": "NTjQfkDUOfDJ"
      },
      "execution_count": null,
      "outputs": []
    },
    {
      "cell_type": "code",
      "source": [
        "print(words)"
      ],
      "metadata": {
        "colab": {
          "base_uri": "https://localhost:8080/"
        },
        "id": "zax2OfXeOjBZ",
        "outputId": "456d3735-6dae-4a22-c8bf-ec21d080ba93"
      },
      "execution_count": null,
      "outputs": [
        {
          "output_type": "stream",
          "name": "stdout",
          "text": [
            "['hi', 'there', 'my', 'name', 'is', 'sakshi', 'tiwari', '.', 'i', 'am', 'a', 'Pre-final', 'year', 'student', 'pursuing', 'my', 'bachelor', \"'s\", 'in', 'artifiical', 'intllgience', 'and', 'data', 'scince', 'branch', '.']\n"
          ]
        }
      ]
    },
    {
      "cell_type": "code",
      "source": [
        "without_stop_words = []\n",
        "for words in tokenized_work:\n",
        "  if words not in stop_words:\n",
        "    without_stop_words.append(words)"
      ],
      "metadata": {
        "id": "8A4MiyUEPVpl"
      },
      "execution_count": null,
      "outputs": []
    },
    {
      "cell_type": "code",
      "source": [
        "without_stop_words"
      ],
      "metadata": {
        "colab": {
          "base_uri": "https://localhost:8080/"
        },
        "id": "61YyTzdwQ1V4",
        "outputId": "073f5071-f1f9-4799-b86b-38b0f1fd66c1"
      },
      "execution_count": null,
      "outputs": [
        {
          "output_type": "execute_result",
          "data": {
            "text/plain": [
              "['hi',\n",
              " 'name',\n",
              " 'sakshi',\n",
              " 'tiwari',\n",
              " '.',\n",
              " 'Pre-final',\n",
              " 'year',\n",
              " 'student',\n",
              " 'pursuing',\n",
              " 'bachelor',\n",
              " \"'s\",\n",
              " 'artifiical',\n",
              " 'intllgience',\n",
              " 'data',\n",
              " 'scince',\n",
              " 'branch',\n",
              " '.']"
            ]
          },
          "metadata": {},
          "execution_count": 37
        }
      ]
    },
    {
      "cell_type": "code",
      "source": [
        "print(set(tokenize_words) - set(stop_words))"
      ],
      "metadata": {
        "colab": {
          "base_uri": "https://localhost:8080/",
          "height": 141
        },
        "id": "ksoyUKO_SA2y",
        "outputId": "216bbef3-e27b-4890-e113-f4a0b0269e03"
      },
      "execution_count": null,
      "outputs": [
        {
          "output_type": "error",
          "ename": "NameError",
          "evalue": "name 'tokenize_words' is not defined",
          "traceback": [
            "\u001b[0;31m---------------------------------------------------------------------------\u001b[0m",
            "\u001b[0;31mNameError\u001b[0m                                 Traceback (most recent call last)",
            "\u001b[0;32m<ipython-input-38-257e6f62db8e>\u001b[0m in \u001b[0;36m<cell line: 1>\u001b[0;34m()\u001b[0m\n\u001b[0;32m----> 1\u001b[0;31m \u001b[0mprint\u001b[0m\u001b[0;34m(\u001b[0m\u001b[0mset\u001b[0m\u001b[0;34m(\u001b[0m\u001b[0mtokenize_words\u001b[0m\u001b[0;34m)\u001b[0m \u001b[0;34m-\u001b[0m \u001b[0mset\u001b[0m\u001b[0;34m(\u001b[0m\u001b[0mstop_words\u001b[0m\u001b[0;34m)\u001b[0m\u001b[0;34m)\u001b[0m\u001b[0;34m\u001b[0m\u001b[0;34m\u001b[0m\u001b[0m\n\u001b[0m",
            "\u001b[0;31mNameError\u001b[0m: name 'tokenize_words' is not defined"
          ]
        }
      ]
    },
    {
      "cell_type": "code",
      "source": [
        "print( set(tokenized_work)-set(without_stop_words))"
      ],
      "metadata": {
        "colab": {
          "base_uri": "https://localhost:8080/"
        },
        "id": "tgy5kapMSMCJ",
        "outputId": "f1667c06-374d-43ba-857d-83ba828a9341"
      },
      "execution_count": null,
      "outputs": [
        {
          "output_type": "stream",
          "name": "stdout",
          "text": [
            "{'a', 'i', 'is', 'my', 'am', 'there', 'in', 'and'}\n"
          ]
        }
      ]
    },
    {
      "cell_type": "code",
      "source": [
        "print(tokenized_work)"
      ],
      "metadata": {
        "colab": {
          "base_uri": "https://localhost:8080/"
        },
        "id": "9lzxfRYmSaEs",
        "outputId": "418eeb2f-a1ec-453e-88e8-343b97818b54"
      },
      "execution_count": null,
      "outputs": [
        {
          "output_type": "stream",
          "name": "stdout",
          "text": [
            "['hi', 'there', 'my', 'name', 'is', 'sakshi', 'tiwari', '.', 'i', 'am', 'a', 'Pre-final', 'year', 'student', 'pursuing', 'my', 'bachelor', \"'s\", 'in', 'artifiical', 'intllgience', 'and', 'data', 'scince', 'branch', '.']\n"
          ]
        }
      ]
    },
    {
      "cell_type": "code",
      "source": [
        "print(without_stop_words)"
      ],
      "metadata": {
        "colab": {
          "base_uri": "https://localhost:8080/"
        },
        "id": "PHLdl9LKS9mF",
        "outputId": "408b9e7b-bfd7-4481-f2e6-3a45e9517a76"
      },
      "execution_count": null,
      "outputs": [
        {
          "output_type": "stream",
          "name": "stdout",
          "text": [
            "['hi', 'name', 'sakshi', 'tiwari', '.', 'Pre-final', 'year', 'student', 'pursuing', 'bachelor', \"'s\", 'artifiical', 'intllgience', 'data', 'scince', 'branch', '.']\n"
          ]
        }
      ]
    },
    {
      "cell_type": "markdown",
      "source": [
        "# SENTIMENT ANALYSIS\n",
        "\n"
      ],
      "metadata": {
        "id": "II95rC6jTI23"
      }
    },
    {
      "cell_type": "markdown",
      "source": [
        "Sentiment analysis deals with lemmitization and stemming."
      ],
      "metadata": {
        "id": "8mmSvvfNydo2"
      }
    },
    {
      "cell_type": "code",
      "source": [
        "import nltk"
      ],
      "metadata": {
        "id": "6XbcGtulTAeF"
      },
      "execution_count": 1,
      "outputs": []
    },
    {
      "cell_type": "code",
      "source": [
        "nltk.download('wordnet')"
      ],
      "metadata": {
        "colab": {
          "base_uri": "https://localhost:8080/"
        },
        "id": "BSLWyIBfynne",
        "outputId": "4b45a914-8c51-4fd8-e494-d8a0b49169b1"
      },
      "execution_count": 2,
      "outputs": [
        {
          "output_type": "stream",
          "name": "stderr",
          "text": [
            "[nltk_data] Downloading package wordnet to /root/nltk_data...\n"
          ]
        },
        {
          "output_type": "execute_result",
          "data": {
            "text/plain": [
              "True"
            ]
          },
          "metadata": {},
          "execution_count": 2
        }
      ]
    },
    {
      "cell_type": "code",
      "source": [
        "from nltk.stem import PorterStemmer , WordNetLemmatizer"
      ],
      "metadata": {
        "id": "NEIJl31Syrxu"
      },
      "execution_count": 3,
      "outputs": []
    },
    {
      "cell_type": "code",
      "source": [
        "text = \"hello samrat ashok technological institute, and i am back here with my anotehr learning lecture about stemming and lemmitization which is an sentiment analysis technique.\""
      ],
      "metadata": {
        "id": "6CM81C1ty2Ew"
      },
      "execution_count": 4,
      "outputs": []
    },
    {
      "cell_type": "code",
      "source": [
        "demowords = ['playing', 'happiness', 'going', 'doing', 'yes', 'no', 'i', 'having', 'had', 'haved']"
      ],
      "metadata": {
        "id": "vUwy1To_zeup"
      },
      "execution_count": 6,
      "outputs": []
    },
    {
      "cell_type": "markdown",
      "source": [],
      "metadata": {
        "id": "GPNJRyX7zeXm"
      }
    },
    {
      "cell_type": "code",
      "source": [
        "lemmatizer = WordNetLemmatizer()\n",
        "stemmer = PorterStemmer()"
      ],
      "metadata": {
        "id": "qIYudOR3zEuD"
      },
      "execution_count": 5,
      "outputs": []
    },
    {
      "cell_type": "code",
      "source": [
        "for word in demowords:\n",
        "  print(word, stemmer.stem(word), lemmatizer.lemmatize(word), \"v\")"
      ],
      "metadata": {
        "colab": {
          "base_uri": "https://localhost:8080/"
        },
        "id": "3HtaxidJzY95",
        "outputId": "c5b1234e-1a87-4dd4-915a-0d19c152cbf2"
      },
      "execution_count": 8,
      "outputs": [
        {
          "output_type": "stream",
          "name": "stdout",
          "text": [
            "playing play playing v\n",
            "happiness happi happiness v\n",
            "going go going v\n",
            "doing do doing v\n",
            "yes ye yes v\n",
            "no no no v\n",
            "i i i v\n",
            "having have having v\n",
            "had had had v\n",
            "haved have haved v\n"
          ]
        }
      ]
    },
    {
      "cell_type": "code",
      "source": [
        "from nltk.sentiment import SentimentIntensityAnalyzer"
      ],
      "metadata": {
        "id": "0N2qN6Eez7YX"
      },
      "execution_count": 9,
      "outputs": []
    },
    {
      "cell_type": "code",
      "source": [
        "import nltk\n",
        "nltk.download(\"vader_lexicon\")"
      ],
      "metadata": {
        "colab": {
          "base_uri": "https://localhost:8080/"
        },
        "id": "nlvomLnS1Naf",
        "outputId": "a363c56d-69c6-45d5-9fdb-189d22f74f2c"
      },
      "execution_count": 11,
      "outputs": [
        {
          "output_type": "stream",
          "name": "stderr",
          "text": [
            "[nltk_data] Downloading package vader_lexicon to /root/nltk_data...\n"
          ]
        },
        {
          "output_type": "execute_result",
          "data": {
            "text/plain": [
              "True"
            ]
          },
          "metadata": {},
          "execution_count": 11
        }
      ]
    },
    {
      "cell_type": "code",
      "source": [
        "sia = SentimentIntensityAnalyzer()"
      ],
      "metadata": {
        "id": "wIfuzLmr1Din"
      },
      "execution_count": 13,
      "outputs": []
    },
    {
      "cell_type": "code",
      "source": [
        "sia.polarity_scores(\"my anchoring was amazing today\")"
      ],
      "metadata": {
        "colab": {
          "base_uri": "https://localhost:8080/"
        },
        "id": "wWYdlZTy1H83",
        "outputId": "a09e9e80-8a29-4da3-e688-de6a808257c8"
      },
      "execution_count": 20,
      "outputs": [
        {
          "output_type": "execute_result",
          "data": {
            "text/plain": [
              "{'neg': 0.0, 'neu': 0.513, 'pos': 0.487, 'compound': 0.5859}"
            ]
          },
          "metadata": {},
          "execution_count": 20
        }
      ]
    },
    {
      "cell_type": "code",
      "source": [],
      "metadata": {
        "id": "EKfoiyN_1d62"
      },
      "execution_count": null,
      "outputs": []
    }
  ]
}