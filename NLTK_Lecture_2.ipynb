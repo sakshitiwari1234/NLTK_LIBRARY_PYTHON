{
  "nbformat": 4,
  "nbformat_minor": 0,
  "metadata": {
    "colab": {
      "provenance": [],
      "authorship_tag": "ABX9TyPbdq9/rqf1xSAnczaUlgYb",
      "include_colab_link": true
    },
    "kernelspec": {
      "name": "python3",
      "display_name": "Python 3"
    },
    "language_info": {
      "name": "python"
    }
  },
  "cells": [
    {
      "cell_type": "markdown",
      "metadata": {
        "id": "view-in-github",
        "colab_type": "text"
      },
      "source": [
        "<a href=\"https://colab.research.google.com/github/sakshitiwari1234/NLTK_LIBRARY_PYTHON/blob/main/NLTK_Lecture_2.ipynb\" target=\"_parent\"><img src=\"https://colab.research.google.com/assets/colab-badge.svg\" alt=\"Open In Colab\"/></a>"
      ]
    },
    {
      "cell_type": "markdown",
      "source": [
        "# In this lecture we will learn how to get the meaning , synonym and antonym of words using nltk library."
      ],
      "metadata": {
        "id": "tbmbOczw3NLG"
      }
    },
    {
      "cell_type": "code",
      "execution_count": 1,
      "metadata": {
        "id": "MJlmOWVt2XoV"
      },
      "outputs": [],
      "source": [
        "import nltk"
      ]
    },
    {
      "cell_type": "code",
      "source": [
        "from nltk.corpus import wordnet"
      ],
      "metadata": {
        "id": "nPnRhL_h3Zuq"
      },
      "execution_count": 3,
      "outputs": []
    },
    {
      "cell_type": "code",
      "source": [
        "nltk.download(\"wordnet\")"
      ],
      "metadata": {
        "colab": {
          "base_uri": "https://localhost:8080/"
        },
        "id": "B7PNgVh-33O3",
        "outputId": "2da6318e-0d16-45c2-e3fe-abbfd6b7d4dc"
      },
      "execution_count": 6,
      "outputs": [
        {
          "output_type": "stream",
          "name": "stderr",
          "text": [
            "[nltk_data] Downloading package wordnet to /root/nltk_data...\n"
          ]
        },
        {
          "output_type": "execute_result",
          "data": {
            "text/plain": [
              "True"
            ]
          },
          "metadata": {},
          "execution_count": 6
        }
      ]
    },
    {
      "cell_type": "markdown",
      "source": [
        "nltk.download(\"wordnet\")"
      ],
      "metadata": {
        "id": "JvaIGgZd3xdn"
      }
    },
    {
      "cell_type": "code",
      "source": [
        "syn = wordnet.synsets(\"Computer\")"
      ],
      "metadata": {
        "id": "Cq-SiKBp3iFx"
      },
      "execution_count": 7,
      "outputs": []
    },
    {
      "cell_type": "code",
      "source": [
        "print(syn[0].definition())"
      ],
      "metadata": {
        "colab": {
          "base_uri": "https://localhost:8080/"
        },
        "id": "KmWNIOCy3qGr",
        "outputId": "d7e3aced-d739-4e86-b16d-d382461b7b74"
      },
      "execution_count": 8,
      "outputs": [
        {
          "output_type": "stream",
          "name": "stdout",
          "text": [
            "a machine for performing calculations automatically\n"
          ]
        }
      ]
    },
    {
      "cell_type": "code",
      "source": [
        "syn = wordnet.synsets(\"gracefully\")\n",
        "print(syn[0].definition())"
      ],
      "metadata": {
        "colab": {
          "base_uri": "https://localhost:8080/"
        },
        "id": "1xrpG-Ww4AXQ",
        "outputId": "9ea886cb-ee74-4814-b6fb-d547b1616ad0"
      },
      "execution_count": 9,
      "outputs": [
        {
          "output_type": "stream",
          "name": "stdout",
          "text": [
            "in a graceful manner\n"
          ]
        }
      ]
    },
    {
      "cell_type": "markdown",
      "source": [
        "Defining synonyms and antonyms in wodnet."
      ],
      "metadata": {
        "id": "r6d7VqqA4Pbq"
      }
    },
    {
      "cell_type": "code",
      "source": [
        "synonyms = []"
      ],
      "metadata": {
        "id": "7BCrC0_o4MB_"
      },
      "execution_count": 10,
      "outputs": []
    },
    {
      "cell_type": "code",
      "source": [
        "for syn in wordnet.synsets(\"computer\"):\n",
        "  for i in syn.lemmas():\n",
        "    synonyms.append(i.name())\n",
        "\n",
        "print(synonyms)\n"
      ],
      "metadata": {
        "colab": {
          "base_uri": "https://localhost:8080/"
        },
        "id": "xhKuRawo4Vsh",
        "outputId": "72c8c10d-1af5-4459-a979-ac824c3f8969"
      },
      "execution_count": 14,
      "outputs": [
        {
          "output_type": "stream",
          "name": "stdout",
          "text": [
            "['computer', 'computing_machine', 'computing_device', 'data_processor', 'electronic_computer', 'information_processing_system', 'calculator', 'reckoner', 'figurer', 'estimator', 'computer']\n"
          ]
        }
      ]
    },
    {
      "cell_type": "code",
      "source": [
        "hiii = []\n",
        "\n",
        "for syn in wordnet.synsets(\"robot\"):\n",
        "  for i in syn.lemmas():\n",
        "    hiii.append(i.name())\n",
        "\n",
        "print(hiii)\n"
      ],
      "metadata": {
        "colab": {
          "base_uri": "https://localhost:8080/"
        },
        "id": "r1oyjd3s4o41",
        "outputId": "992fdbe7-ab15-4e01-f017-b5f48ddc7928"
      },
      "execution_count": 22,
      "outputs": [
        {
          "output_type": "stream",
          "name": "stdout",
          "text": [
            "['automaton', 'robot', 'golem']\n"
          ]
        }
      ]
    },
    {
      "cell_type": "code",
      "source": [
        "antonyms = []\n",
        "\n",
        "for syn in wordnet.synsets(\"small\"):\n",
        "  for lemma in syn.lemmas():\n",
        "    if lemma.antonyms():\n",
        "      antonyms.append(lemma.antonyms()[0].name())\n",
        "\n",
        "print(antonyms)"
      ],
      "metadata": {
        "colab": {
          "base_uri": "https://localhost:8080/"
        },
        "id": "nRf31kPK5b_L",
        "outputId": "770edd9e-c036-4acd-af9b-d98fe0e29ed0"
      },
      "execution_count": 24,
      "outputs": [
        {
          "output_type": "stream",
          "name": "stdout",
          "text": [
            "['large', 'big', 'big']\n"
          ]
        }
      ]
    },
    {
      "cell_type": "markdown",
      "source": [
        "Here i have completed the nltk library vedios and tuturials from programming knowledge channel.\n",
        "\n",
        "this is has been completed on 16.01.2025.\n",
        "\n",
        "if requirre you may also studied about it more thorugh documentations and other youtube channels."
      ],
      "metadata": {
        "id": "gaEVWlXq67wt"
      }
    },
    {
      "cell_type": "code",
      "source": [],
      "metadata": {
        "id": "tHjMCjYP6mcH"
      },
      "execution_count": null,
      "outputs": []
    }
  ]
}